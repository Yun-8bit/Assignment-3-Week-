{
  "nbformat": 4,
  "nbformat_minor": 0,
  "metadata": {
    "colab": {
      "provenance": [],
      "authorship_tag": "ABX9TyNfVbaAoSEHr5P9sgRwtNOR",
      "include_colab_link": true
    },
    "kernelspec": {
      "name": "python3",
      "display_name": "Python 3"
    },
    "language_info": {
      "name": "python"
    }
  },
  "cells": [
    {
      "cell_type": "markdown",
      "metadata": {
        "id": "view-in-github",
        "colab_type": "text"
      },
      "source": [
        "<a href=\"https://colab.research.google.com/github/Yun-8bit/Assignment-3-Week-/blob/main/Untitled3.ipynb\" target=\"_parent\"><img src=\"https://colab.research.google.com/assets/colab-badge.svg\" alt=\"Open In Colab\"/></a>"
      ]
    },
    {
      "cell_type": "code",
      "source": [
        "#1. 0~9까지의 값으로 넘파이 1차원 배열을 만들고, 이 배열을 거꾸로 나열하라.\n",
        "\n",
        "import numpy as np\n",
        "a = np.arange(10 )\n",
        "a = a[::-1 ]"
      ],
      "metadata": {
        "id": "Kk_UoCUKjidq"
      },
      "execution_count": 89,
      "outputs": []
    },
    {
      "cell_type": "code",
      "source": [
        "#2. 0~8까지의 값을 가지고 3x3 행렬과 9x1행렬을 생성하라.\n",
        "\n",
        "import numpy as np\n",
        "a = np.arange(9 )\n",
        "x = a.reshape(3 ,3 )\n",
        "y = a.reshape(9 ,1 )"
      ],
      "metadata": {
        "id": "WGTCe8a8pUcA"
      },
      "execution_count": null,
      "outputs": []
    },
    {
      "cell_type": "code",
      "source": [
        "#3. 배열의 테두리에 1, 내부에 0을 가진 10x10 크기의 행렬을 생성하라.\n",
        "\n",
        "x = np.ones((10 ,10 ),dtype=np.int32)\n",
        "x[1 :-1 , 1 :-1 ] = 0"
      ],
      "metadata": {
        "id": "-C1cxm12pXBD"
      },
      "execution_count": null,
      "outputs": []
    },
    {
      "cell_type": "code",
      "source": [
        "#4. 5x5 행렬을 만들어 체스보드 패턴으로 채워보라.\n",
        "\n",
        "import numpy as np\n",
        "x = np.ones((5 ,5 ),dtype=np.int32)\n",
        "x[0 ::2 ,0 ::2 ] = 0\n",
        "x[1 ::2 ,1 ::2 ] = 0"
      ],
      "metadata": {
        "id": "6ObzWrP4pZts"
      },
      "execution_count": null,
      "outputs": []
    },
    {
      "cell_type": "code",
      "source": [
        "#5. 넘파이를 사용해서 0~9까지의 값을 가지는 벡터를 만들고 5에서 8 사이의 숫자 부호를 반전시켜보라\n",
        "\n",
        "import numpy as np\n",
        "x = np.arange(0 ,10 )\n",
        "x[5 :9 ] *= -1"
      ],
      "metadata": {
        "id": "Spms_2EOpcaj"
      },
      "execution_count": null,
      "outputs": []
    },
    {
      "cell_type": "code",
      "source": [
        "#6. 주어진 두 배열의 내적을 계산하라.\n",
        "\n",
        "import numpy as np\n",
        "X = np.array([[4 ,5 ],[7 ,10 ]])\n",
        "Y = np.array([[2 ,3 ],[1 ,5 ]])\n",
        "result = X@Y"
      ],
      "metadata": {
        "id": "AP_4uicLpfUZ"
      },
      "execution_count": null,
      "outputs": []
    },
    {
      "cell_type": "code",
      "source": [
        "#7. 시그모이드(Sigmoid) 함수의 1차 미분 함수를 구하고, Sigmoid 함수와 미분 함수를 같은 화면에 그려보라.\n",
        "\n",
        "import numpy as np\n",
        "import matplotlib.pyplot as plt\n",
        "import math\n",
        "\n",
        "X = np.linspace(-10 , 10 , 1000 )\n",
        "\n",
        "# 시그모이드 함수\n",
        "def sigmoid (x ):\n",
        "  return 1 / (1 + np.exp(-x))\n",
        "\n",
        "# 시그모이드의 미분 함수\n",
        "def sigmoid_derivative (x ):\n",
        "  s = sigmoid(x)\n",
        "  return s * (1 - s)\n",
        "\n",
        "# 그래프\n",
        "plt.plot(X,sigmoid(X))\n",
        "plt.plot(X,sigmoid_derivative(X))\n",
        "plt.ylabel(\"x\")\n",
        "plt.ylabel(\"Sigmoid(X)\")\n",
        "plt.show()"
      ],
      "metadata": {
        "id": "w7-4aaL-phuK"
      },
      "execution_count": null,
      "outputs": []
    }
  ]
}